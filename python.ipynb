{
 "cells": [
  {
   "cell_type": "code",
   "execution_count": 19,
   "metadata": {},
   "outputs": [
    {
     "name": "stdout",
     "output_type": "stream",
     "text": [
      "dipesh\n",
      "2\n",
      "5 is greater than 2\n",
      "this is \t escape sequance\n",
      "1\t2\t3\t4\t5\n",
      "This is double quote\n",
      "he said \"i am the best\"\n"
     ]
    }
   ],
   "source": [
    "\n",
    "print('dipesh') #printing  started  using  single  quotes\n",
    "print(2)\n",
    "if(5>2):\n",
    " print('5 is greater than 2')\n",
    "print('this is \\t escape sequance')\n",
    "print(1,2,3,4,5, sep=\"\\t\")\n",
    "print(\"This is double quote\")\n",
    "print('he said \"i am the best\"')"
   ]
  },
  {
   "cell_type": "code",
   "execution_count": null,
   "metadata": {},
   "outputs": [],
   "source": []
  },
  {
   "cell_type": "code",
   "execution_count": 21,
   "metadata": {},
   "outputs": [
    {
     "name": "stdout",
     "output_type": "stream",
     "text": [
      "1 22 -22222\n",
      "<class 'int'> <class 'int'>\n"
     ]
    }
   ],
   "source": [
    "#integer\n",
    "X1 =1\n",
    "X2=22\n",
    "X3=-22222\n",
    "print(X1,X2,X3)\n",
    "print(type(X1),type(X2))#finding of type of input"
   ]
  },
  {
   "cell_type": "code",
   "execution_count": 24,
   "metadata": {},
   "outputs": [
    {
     "name": "stdout",
     "output_type": "stream",
     "text": [
      "<class 'int'>\n"
     ]
    }
   ],
   "source": [
    "X4=3\n",
    "X5=X4 + X3\n",
    "print(type(X5))"
   ]
  },
  {
   "cell_type": "code",
   "execution_count": 35,
   "metadata": {},
   "outputs": [
    {
     "name": "stdout",
     "output_type": "stream",
     "text": [
      "<class 'int'>\n",
      "<class 'complex'>\n",
      "6 <class 'int'>\n"
     ]
    }
   ],
   "source": [
    "#complex\n",
    "z1= 1+2\n",
    "z2= complex(1,-5)\n",
    "print(type(z1))\n",
    "print(type(z2))\n",
    "print((z1+X4),type(z1+X4))"
   ]
  },
  {
   "cell_type": "code",
   "execution_count": 39,
   "metadata": {},
   "outputs": [],
   "source": [
    "#Data Types\n",
    "x=10\n",
    "y=3.14\n",
    "x=float(x)\n",
    "y=int(y)\n",
    "z=complex(x,y)"
   ]
  },
  {
   "cell_type": "code",
   "execution_count": 41,
   "metadata": {},
   "outputs": [
    {
     "name": "stdout",
     "output_type": "stream",
     "text": [
      "8\n",
      "12\n",
      "0.3333333333333333\n",
      "-4\n",
      "2\n",
      "64\n",
      "<class 'int'>\n"
     ]
    }
   ],
   "source": [
    "# operators\n",
    "x1=2\n",
    "x2=6\n",
    "print(x1+x2)\n",
    "print(x1*x2)\n",
    "print(x1/x2)\n",
    "print(x1-x2)\n",
    "print(x1%x2)\n",
    "print(x1**x2)\n",
    "print(type(x1//x2))"
   ]
  },
  {
   "cell_type": "code",
   "execution_count": 47,
   "metadata": {},
   "outputs": [
    {
     "name": "stdout",
     "output_type": "stream",
     "text": [
      "10.0 3 (10+3j)\n"
     ]
    }
   ],
   "source": [
    "x=10\n",
    "y=3.14\n",
    "x=float(x)\n",
    "y=int(y)\n",
    "z=complex(x,y)\n",
    "print(x,y,z)\n"
   ]
  },
  {
   "cell_type": "code",
   "execution_count": 50,
   "metadata": {},
   "outputs": [
    {
     "name": "stdout",
     "output_type": "stream",
     "text": [
      "False\n",
      "False\n",
      "True\n"
     ]
    }
   ],
   "source": [
    "x=3\n",
    "y=5\n",
    "print(x>y)\n",
    "print(x==y)\n",
    "print(x!=y)\n"
   ]
  },
  {
   "cell_type": "code",
   "execution_count": 53,
   "metadata": {},
   "outputs": [
    {
     "name": "stdout",
     "output_type": "stream",
     "text": [
      "5.5\n",
      "-6\n",
      "8\n",
      "3\n",
      "4.0\n",
      "2.302585092994046\n"
     ]
    }
   ],
   "source": [
    "#mathfunction\n",
    "import math\n",
    "x= -5.5\n",
    "print(abs(x))\n",
    "print(round(x))\n",
    "print(pow(2,3))\n",
    "print(max(1,2,3))\n",
    "print(math.sqrt(16))\n",
    "print(math.log(10))"
   ]
  },
  {
   "cell_type": "code",
   "execution_count": 61,
   "metadata": {},
   "outputs": [
    {
     "name": "stdout",
     "output_type": "stream",
     "text": [
      "this is,     string!!!\n",
      "THIS IS,     STRING!!!\n",
      "This is,     string\n",
      "This is,     saring!!!\n",
      "['Thi', ' i', ',     ', 'tring!!!']\n"
     ]
    }
   ],
   "source": [
    "#stringmethods\n",
    "x=\"This is,     string!!!\"\n",
    "print(x.lower())\n",
    "print(x.upper())\n",
    "print(x.strip(\"!\"))\n",
    "print(x.replace(\"t\",\"a\"))\n",
    "print(x.split(\"s\"))\n"
   ]
  },
  {
   "cell_type": "code",
   "execution_count": 65,
   "metadata": {},
   "outputs": [
    {
     "name": "stdout",
     "output_type": "stream",
     "text": [
      "16\n",
      "is\n",
      " a python\n",
      "is a python\n",
      "Tipn\n",
      "yth\n",
      "nohtyp a si sihT\n"
     ]
    }
   ],
   "source": [
    "#stringslicing\n",
    "x=\"This is a python\"\n",
    "print(len(x))\n",
    "print(x[5:7])\n",
    "print(x[7:])\n",
    "print(x[5:])\n",
    "print(x[::5])\n",
    "print(x[-5:-2])#[-5]=x[len(x)-5]\n",
    "print(x[::-1])"
   ]
  },
  {
   "cell_type": "code",
   "execution_count": 68,
   "metadata": {},
   "outputs": [
    {
     "name": "stdout",
     "output_type": "stream",
     "text": [
      "Dipesh is my name 1 is my number \n",
      "Dipesh is my name 1 is my number\n"
     ]
    }
   ],
   "source": [
    "x=\"Dipesh\"\n",
    "y=\"1\"\n",
    "print(x,\"is my name\",y,\"is my number \")\n",
    "print(f\"{x} is my name {y} is my number\")\n"
   ]
  },
  {
   "cell_type": "code",
   "execution_count": 71,
   "metadata": {},
   "outputs": [
    {
     "name": "stdout",
     "output_type": "stream",
     "text": [
      "Hello Dipesh\n"
     ]
    }
   ],
   "source": [
    "x=\"Hello\"\n",
    "y=\"Dipesh\"\n",
    "z=x + \" \" + y\n",
    "print(z)"
   ]
  },
  {
   "cell_type": "code",
   "execution_count": null,
   "metadata": {},
   "outputs": [],
   "source": []
  }
 ],
 "metadata": {
  "kernelspec": {
   "display_name": "Python 3",
   "language": "python",
   "name": "python3"
  },
  "language_info": {
   "codemirror_mode": {
    "name": "ipython",
    "version": 3
   },
   "file_extension": ".py",
   "mimetype": "text/x-python",
   "name": "python",
   "nbconvert_exporter": "python",
   "pygments_lexer": "ipython3",
   "version": "3.12.1"
  }
 },
 "nbformat": 4,
 "nbformat_minor": 2
}
